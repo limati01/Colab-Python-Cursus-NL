{
  "nbformat": 4,
  "nbformat_minor": 0,
  "metadata": {
    "colab": {
      "name": "02 Funky Functies.ipynb",
      "version": "0.3.2",
      "provenance": [],
      "include_colab_link": true
    },
    "kernelspec": {
      "name": "python3",
      "display_name": "Python 3"
    }
  },
  "cells": [
    {
      "cell_type": "markdown",
      "metadata": {
        "id": "view-in-github",
        "colab_type": "text"
      },
      "source": [
        "<a href=\"https://colab.research.google.com/github/stgslaze/Colab-Python-Cursus-NL/blob/master/02_Funky_Functies.ipynb\" target=\"_parent\"><img src=\"https://colab.research.google.com/assets/colab-badge.svg\" alt=\"Open In Colab\"/></a>"
      ]
    },
    {
      "cell_type": "markdown",
      "metadata": {
        "id": "HoHhL7qEIEmp",
        "colab_type": "text"
      },
      "source": [
        "Je hebt nu al een aantal functies gebruikt. Tijd om het om te draaien en deze zelf te maken.\n",
        "\n",
        "\n",
        "**Waarom eigenijk functies?**\n",
        "\n",
        "Een functie maak je 1 keer, en kun je daarna meerdere keren in je code gebruiken. Je hebt al het een en ander aan code ingetypt en zult er ongetwijfeld achter zijn gekomen dat het makkelijk is om foutjes te maken. Als je een functie eenmaal werkend hebt dan kan dat alvast nooit meer fout gaan moet je maar denken. Het scheelt dus werk.\n",
        "\n",
        "**Een stapeltje functies?**\n",
        "\n",
        "Als je veel functies hebt gemaakt kun je deze zelfs bij elkaar proppen in een module. De module kun je delen op internet met andere mensen waardoor je (internet)beroemd wordt (binnen Python kringen dan ...)."
      ]
    },
    {
      "cell_type": "markdown",
      "metadata": {
        "id": "WtYHjomWJfHC",
        "colab_type": "text"
      },
      "source": [
        "# Functies in Python"
      ]
    },
    {
      "cell_type": "markdown",
      "metadata": {
        "id": "swoLbEMwJkuM",
        "colab_type": "text"
      },
      "source": [
        "In Python definieer je een eenvoudige functie als volgt:"
      ]
    },
    {
      "cell_type": "code",
      "metadata": {
        "id": "AAD819BzKq7r",
        "colab_type": "code",
        "colab": {}
      },
      "source": [
        "def functienaam():\n",
        "  print(\"Deze functie print alleen maar iets op het scherm!\")"
      ],
      "execution_count": 0,
      "outputs": []
    },
    {
      "cell_type": "markdown",
      "metadata": {
        "id": "OmNU1eiKKwiI",
        "colab_type": "text"
      },
      "source": [
        "Als je bovenstaand codeblok uitvoert zul je zien dat er niets gebeurt. Logisch: Het enige dat je heb gedaan is het definieren van een functie. Dat is niet hetzelfde als een functie ook daadwerkelijk uitvoeren.\n",
        "\n",
        "Als je de functie wilt uitvoeren moet je hem aanroepen. Voer het codeblok hieronder maar eens uit."
      ]
    },
    {
      "cell_type": "code",
      "metadata": {
        "id": "szJ7TrbdLKqK",
        "colab_type": "code",
        "colab": {}
      },
      "source": [
        "functienaam()"
      ],
      "execution_count": 0,
      "outputs": []
    },
    {
      "cell_type": "markdown",
      "metadata": {
        "id": "OHqOlXUwLPwg",
        "colab_type": "text"
      },
      "source": [
        "Behalve dat de functie iets uitvoer gaf zou je nog iets interessants moeten zijn opgevallen: Ondanks dat de functie in het bovenste codeblok gedefinieerd werd, kun je hem in het codeblok daaronder toch uitvoeren!\n",
        "\n",
        "*Binnen een notebook zijn alle functies en variabelen (mits correct gedefinieerd) te gebruiken. Hetzelfde geld voor het importeren van modules. Als je dat in het allerbovenste codeblok doet, heb je er de rest van je notebook plezier van!*\n",
        "\n",
        "Het is slim je functie een naam te geven die verteld wat de functie doet. Na een dag of wat weet je echt niet meer of je functie genaamd 'functietjuh()' nu iets op je scherm zette of dat het de beurskoersen van die dag in beeld brengt ...\n",
        "\n",
        "Een afspraak in Python is dat functienamen met kleine letters gemaakt worden. Bestaat de functienaam uit meerdere woorden, zet dan 'underscores' tussen de woorden. Dus bijvoorbeeld: naam_generator() of kattenbak_leegmaak_functie().\n",
        "\n",
        "Zo nu en dan wordt er ook wel gebruik gemaakt van 'camel case' stijl zoals dat heet: naamGenerator() of kattenbakLeegmaakFunctie(). Elke woord na het eerste begint dan met een hoofdletter. Beter is het om gewoon de afspraak te volgen en dit niet te doen."
      ]
    },
    {
      "cell_type": "markdown",
      "metadata": {
        "id": "Vm8CrEbeM84W",
        "colab_type": "text"
      },
      "source": [
        "**Parameters**\n",
        "\n",
        "Dan kun je natuurlijk ook nog parameters aan functies meegeven. Dat heb je ook al gebruikt natuurlijk. Die definieer je gewoon door ze ertussen te zetten. Het is, net als bij de namen van functies, slim om je parameter ook een zinvolle naam te geven. Hieronder defineer ik een een functie 'begroet()' die als parameter een naam meekrijgt. Vervolgens wordt deze functie een paar keer aangeroepen met verschillende waarden. Voer het codeblok hieronder eens uit:"
      ]
    },
    {
      "cell_type": "code",
      "metadata": {
        "id": "RBiCfIELNO13",
        "colab_type": "code",
        "colab": {}
      },
      "source": [
        "def begroet(naam): # naam is een parameter\n",
        "  print(\"Hallo \" + naam + \"!\")\n",
        "# einde van de functie definitie\n",
        "  \n",
        "#start van het eigenlijke programma\n",
        "begroet(\"Alice\")\n",
        "begroet(\"Bob\")\n",
        "begroet(\"Charlie\")"
      ],
      "execution_count": 0,
      "outputs": []
    },
    {
      "cell_type": "markdown",
      "metadata": {
        "id": "eUp2bYYqODJg",
        "colab_type": "text"
      },
      "source": [
        "Zoals je ziet gebruikt de functie de parameter gewoon in de code. Je mag zoveel parameters definieren als je wilt, maar zeker als het er drie of meer zijn moet je je afvragen of je het niet te complex maakt. Verschillende parameters scheid je van elkaar door een komma. Zoals dit bijvoorbeeld:\n",
        "```\n",
        "def adres(straatnaam, huisnummer)\n",
        "```"
      ]
    },
    {
      "cell_type": "markdown",
      "metadata": {
        "id": "K8fOx_mXOLrp",
        "colab_type": "text"
      },
      "source": [
        "# Opgave 1 t/m 5"
      ]
    },
    {
      "cell_type": "markdown",
      "metadata": {
        "id": "OOwHEz7uOOMi",
        "colab_type": "text"
      },
      "source": [
        "1. Maak de functie optellen() hieronder af en zorg ervoor dat deze de twee parameters bij elkaar optelt en print op het scherm. Je moet zelf de parameters in de functie definieren. De uitvoer moet als volgt zijn:\n",
        "```\n",
        "8\n",
        "2\n",
        "2000\n",
        "```"
      ]
    },
    {
      "cell_type": "code",
      "metadata": {
        "id": "39fY80QJPMzf",
        "colab_type": "code",
        "colab": {}
      },
      "source": [
        "def optellen():\n",
        "  #zet hier je eigen code\n",
        "\n",
        "  \n",
        "# vanaf hier wordt je functie 3 keer aangeroepen ... dat zou moeten werken :D\n",
        "optellen(5, 3)\n",
        "optellen(1, 1)\n",
        "optellen(1, 1999)"
      ],
      "execution_count": 0,
      "outputs": []
    },
    {
      "cell_type": "markdown",
      "metadata": {
        "id": "kCJKv3GxPjFD",
        "colab_type": "text"
      },
      "source": [
        "\n",
        "\n",
        "---\n",
        "\n",
        "2. Eerder heb je al met een while lus gewerkt. Weet je het nog? Hieronder staat een programma die ermee aftelt vanaf 10 tot nul en dan 'Gelukkig nieuwjaar' print. Wijzig de functie op zo'n manier dat er vanaf het getal dat de gebruiker invoert wordt afgeteld."
      ]
    },
    {
      "cell_type": "code",
      "metadata": {
        "id": "I7n2PxT-SVoE",
        "colab_type": "code",
        "colab": {}
      },
      "source": [
        "# in de functie hieronder moet je een paar wijzigingen aanbrengen\n",
        "def aftellen():\n",
        "  i = 10\n",
        "  while teller > 0:\n",
        "    print(teller)\n",
        "    teller = teller - 1\n",
        "    \n",
        "getal = input(\"Geef een getal op zodat ik kan aftellen: \")\n",
        "# roep de functie aftellen hier op de juiste manier aan"
      ],
      "execution_count": 0,
      "outputs": []
    },
    {
      "cell_type": "markdown",
      "metadata": {
        "id": "YuqW0vbRS7qj",
        "colab_type": "text"
      },
      "source": [
        "\n",
        "\n",
        "---\n",
        "\n",
        "3. Je kunt functies ook gebruiken om variabelen een bepaalde waarde te geven. Dat zie je bijvoorbeeld bij de **input( )** functie. Dat doe je door aan het einde van je functie een waarde terug te geven met het 'return' statement. Hieronder is de functie 'optellen' opnieuw gedefinieerd en geeft een waarde terug die wordt geprint.\n",
        "\n",
        "Wijzig de regel 'som = 0' **in de functie** op zo'n manier dat de uiteindelijke uitvoer als volgt is:\n",
        "```\n",
        "De uitkomst is: 5\n",
        "De uitkomst is: 25\n",
        "```"
      ]
    },
    {
      "cell_type": "code",
      "metadata": {
        "id": "XJT1QxdST0JY",
        "colab_type": "code",
        "colab": {}
      },
      "source": [
        "def optellen(waarde1, waarde2):\n",
        "  som = 0 # deze regel moet gewijzigd worden!!!!!!!!\n",
        "  return som # de waarde van de variabele 'som' wordt teruggegeven\n",
        "\n",
        "waarde = optellen(2,3)\n",
        "print(\"De uitkomst is: \" + str(waarde))\n",
        "\n",
        "waarde = optellen(5,20)\n",
        "print(\"De uitkomst is: \" + str(waarde))\n"
      ],
      "execution_count": 0,
      "outputs": []
    },
    {
      "cell_type": "markdown",
      "metadata": {
        "id": "immmRNyhUzZC",
        "colab_type": "text"
      },
      "source": [
        "\n",
        "\n",
        "---\n",
        "\n",
        "4. Onderstaand codeblok print een lijst uit. Dit is niet bepaald een mooie manier om deze lijst uit te printen. Maak de functie lijstprinter (die als parameter een lijst krijgt) af door de inhoud van de lijst op een nette manier uit te printen. \n",
        "\n",
        "Je zult gebruik moeten maken van een o.a. de functie **len( )** en van een while lus. De uitvoer moet er als volgt uitzien:\n",
        "```\n",
        "De inhoud van de boodschappenlijst is:\n",
        "Melk\n",
        "Brood\n",
        "Appels\n",
        "Peren\n",
        "Bolognese Chips\n",
        "Ben en Jerry ijs\n",
        "```"
      ]
    },
    {
      "cell_type": "code",
      "metadata": {
        "id": "owmqSTlTWTjC",
        "colab_type": "code",
        "colab": {}
      },
      "source": [
        "def lijstprinter(lijst):\n",
        "  print(lijst)\n",
        "\n",
        "\n",
        "boodschappenlijst[\"Melk\", \"Brood\", \"Appels\", \"Peren\", \"Bolognese Chips\", \"Ben en Jerry ijs\"]\n",
        "\n",
        "lijstprinter(boodschappenlijst)"
      ],
      "execution_count": 0,
      "outputs": []
    },
    {
      "cell_type": "markdown",
      "metadata": {
        "id": "gSZYX7pLXYLk",
        "colab_type": "text"
      },
      "source": [
        "*Valt het je op dat de parameter waarmee ik de functie aanroep 'boodschappenlijst' is, maar dat deze in de functie definitie gewoon 'lijst' genoemd wordt?*"
      ]
    },
    {
      "cell_type": "markdown",
      "metadata": {
        "id": "sn3CtSJHXp3x",
        "colab_type": "text"
      },
      "source": [
        "\n",
        "\n",
        "---\n",
        "\n",
        "5. Functies kunnen je ook helpen om meer structuur tijdens het programmeren aan te brengen. Je hoeft een programma niet in een keer helemaal af te maken (net alsof je een verhaal schrijft), maar kunt aparte segmenten in functies vatten en deze stuk voor stuk werkend krijgen. Het rekenmachine programma hieronder bijvoorbeeld is voor een deel af. Sommige functies moet jij afmaken.\n",
        "\n",
        "Test tussendoor steeds of het werkt!"
      ]
    },
    {
      "cell_type": "code",
      "metadata": {
        "id": "sRHj9x1iZk_4",
        "colab_type": "code",
        "colab": {}
      },
      "source": [
        "# Definieren van algemene functies, pas ze aan zodat alles werkt.\n",
        "# Test het resultaat steeds als je klaar bent.\n",
        "def invoer_gebruiker():\n",
        "  # Deze functie moet aan de gebruiker een getal vragen\n",
        "  # dit getal moet ge typecast worden met int() waarna het ge-returned moet worden\n",
        "  return 0\n",
        "\n",
        "def optellen(getal1, getal2):\n",
        "  return 0\n",
        "\n",
        "def aftrekken(getal1, getal2):\n",
        "  return 0\n",
        "\n",
        "def vermenigvuldigen(getal1, getal2):\n",
        "  return 0\n",
        "\n",
        "def delen(getal1, getal2):\n",
        "  return 0\n",
        "  \n",
        "# Hier begint het eigenlijke programma, dit deel hoef je niet aan te passen\n",
        "getal1 = invoer_gebruiker()\n",
        "getal2 = invoer_gebruiker()\n",
        "print(str(getal1) + \" + \" + str(getal2) + \" = \" + str(optellen(getal1, getal2)))\n",
        "print(str(getal1) + \" - \" + str(getal2) + \" = \" + str(aftrekken(getal1, getal2)))\n",
        "print(str(getal1) + \" * \" + str(getal2) + \" = \" + str(vermenigvuldigen(getal1, getal2)))\n",
        "print(str(getal1) + \" / \" + str(getal2) + \" = \" + str(delen(getal1, getal2)))"
      ],
      "execution_count": 0,
      "outputs": []
    }
  ]
}