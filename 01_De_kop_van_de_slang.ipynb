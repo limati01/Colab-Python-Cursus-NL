{
  "nbformat": 4,
  "nbformat_minor": 0,
  "metadata": {
    "colab": {
      "name": "01 De kop van de slang.ipynb",
      "version": "0.3.2",
      "provenance": [],
      "collapsed_sections": [
        "zQmhpRXek81A"
      ],
      "include_colab_link": true
    },
    "kernelspec": {
      "name": "python3",
      "display_name": "Python 3"
    }
  },
  "cells": [
    {
      "cell_type": "markdown",
      "metadata": {
        "id": "view-in-github",
        "colab_type": "text"
      },
      "source": [
        "<a href=\"https://colab.research.google.com/github/stgslaze/Colab-Python-Cursus-NL/blob/master/01_De_kop_van_de_slang.ipynb\" target=\"_parent\"><img src=\"https://colab.research.google.com/assets/colab-badge.svg\" alt=\"Open In Colab\"/></a>"
      ]
    },
    {
      "cell_type": "markdown",
      "metadata": {
        "id": "iDMOtI_zO-Mo",
        "colab_type": "text"
      },
      "source": [
        "Je hebt vorig jaar al wat geprogrammeerd in de taal 'C' als het goed is. Een van de dingen die Python anders maken is de manier van de code opschrijven, dit heet dan met een mooi woord de 'syntax'. In de volgende redelijk korte intro wordt je e.e.a. verteld zodat je direct kunt beginnen!"
      ]
    },
    {
      "cell_type": "markdown",
      "metadata": {
        "id": "QbGZsEHhUQKi",
        "colab_type": "text"
      },
      "source": [
        "# Redelijk korte intro"
      ]
    },
    {
      "cell_type": "markdown",
      "metadata": {
        "id": "wTTZHTawPn7o",
        "colab_type": "text"
      },
      "source": [
        "Een programma is eigenlijk gewoon een verzameling variabelen en een zooitje functies daaromheen. Zodra je het programma uitvoert dan doen de functies iets met de variabelen en vervolgens komt er iets op je scherm of uit de printer rollen.\n",
        "\n",
        "In Python mag je, ten opzichte van andere programmeertalen, redelijk vrijblijvend variabelen aanmaken. Declareren blijft, maar je mag het type weglaten:\n",
        "```\n",
        "a = 10\n",
        "```\n",
        "Iets anders dat je meteen op moet vallen is het chronisch gebrek aan puntkomma's: Jawel, in Python sluiten we de regels code niet meer af met een puntkomma. Dit zorgt ervoor dat je bijna automatisch netjes je code schrijft. In C was dit bijvoorbeeld helemaal okay:\n",
        "\n",
        "```\n",
        "int a\n",
        "=\n",
        "10;int b = 11;c\n",
        "= a + b;\n",
        "```\n",
        "\n",
        "Dit verbeterd de leesbaarheid van je code niet bepaald; wil je in je les van volgende week je programma aanpassen mag je eerst gaan uitpuzzelen wat je nu eigenlijk hebt uitgespookt. Dat wilden de makers van Python voorkomen en dus is in Pyhton de afspraak dat een regel tekst gewoon een regel code is. Je bent dus verplicht het leesbaar te houden want anders werkt het niet.\n",
        "\n",
        "Het idee achter deze regel is: Code wordt vaker gelezen dan geschreven en dus is het belangrijk je code (ook voor jezelf in de toekomst) leesbaar te houden.\n",
        "\n",
        "In Python zou het dus zijn:\n",
        "```\n",
        "a = 10\n",
        "b = 11\n",
        "c = a + b\n",
        "```\n",
        "Nu wil je laten zien wat de waarde van de variabele c is, en dus druk je die af op je scherm (de output) met de functie 'print(x)'. Ook in Python hebben functies mooie haakjes waarin je de parameters kwijt kunt die je wilt meegeven aan de functie. Op de plaats van 'x' in de print functie komt hetgeen te staan dat je op je scherm wilt hebben. Om bovenstaand programma af te maken moet je het volgende dus toevoegen:\n",
        "```\n",
        "print(c)\n",
        "```\n",
        "Hieronder kun je dit prachtige programma vinden in een codeblok, voer het maar eens uit door op 'play' te klikken.\n"
      ]
    },
    {
      "cell_type": "code",
      "metadata": {
        "id": "Mv1dMkp5O5ci",
        "colab_type": "code",
        "colab": {}
      },
      "source": [
        "a = 10\n",
        "b = 11\n",
        "c = a + b\n",
        "print(c)"
      ],
      "execution_count": 0,
      "outputs": []
    },
    {
      "cell_type": "markdown",
      "metadata": {
        "id": "uC9-rKoaT94o",
        "colab_type": "text"
      },
      "source": [
        "*Misschien vraag je jezelf af waarom in bijna elke programmeertaal je iets in een functie genaamd 'print' moet stoppen terwijl je het alleen maar op je scherm wilt hebben. Vroegah hadden computers geen scherm maar kwam alle output uit printers. Dat is een van de dingen die min of meer gebleven zijn*"
      ]
    },
    {
      "cell_type": "markdown",
      "metadata": {
        "id": "bw9JGRmOnRqd",
        "colab_type": "text"
      },
      "source": [
        "Een ander verschil is het commentaar. In Python wordt commentaar vooraf gegaan door een octothorp. Wooptidoo dit is de echte naam voor een *hashtag* of *hekje*, je kunt het maar weten en je mag gelukkig zelf weten hoe je het noemt! Python code die achter een octothorp staat wordt **niet** uitgevoerd. \n",
        "```\n",
        "a = 10 # a is nu wel 10 want het commentaar staat erachter\n",
        "# a = 11 maar nu is a nog steeds 10, kijk maar waar het hekje staat\n",
        "a = 11 # nu is a wel 11!\n",
        "```\n",
        "In sommige codeblokken geef ik met dit commentaar wat hints."
      ]
    },
    {
      "cell_type": "markdown",
      "metadata": {
        "id": "Cf5DvIA6VRAu",
        "colab_type": "text"
      },
      "source": [
        "# Opgaven 1 t/m 10"
      ]
    },
    {
      "cell_type": "markdown",
      "metadata": {
        "id": "jdty8k0rVW5u",
        "colab_type": "text"
      },
      "source": [
        "Hieronder vind je oefenmateriaal. De opgaven wijzen zichzelf (en anders heb ik het fout gedaan, niet jij). Ze bestaan uit een stukje tekst met eventueel wat uitleg zoals dit, en daarna een codeblok met de opgave.\n",
        "\n",
        "Het codeblok moet je aanvullen in de meeste gevallen zodat er een goed werkend programma ontstaat. Als je op de 'play' knop klikt en je krijgt een foutmelding of iets klopt er niet op je scherm dan is je programma niet goed."
      ]
    },
    {
      "cell_type": "markdown",
      "metadata": {
        "id": "Bv016ENUWF2T",
        "colab_type": "text"
      },
      "source": [
        "\n",
        "\n",
        "---\n",
        "\n",
        "\n",
        "1. In het eerste voorbeeld was variabele **a** 10 en variabele **b** 11. **c** was daardoor altijd 21 en is daar erg verdrietig over. Zorg ervoor dat **c** nu 42 is door **a** en **b** andere waarden te geven. Voer je programma daarna uit.  Als de output niet 42 is heb je het niet goed gedaan!"
      ]
    },
    {
      "cell_type": "code",
      "metadata": {
        "id": "zxz6TIw_Wdsk",
        "colab_type": "code",
        "colab": {}
      },
      "source": [
        "a = 10\n",
        "b = 11\n",
        "c = a + b\n",
        "print(c)"
      ],
      "execution_count": 0,
      "outputs": []
    },
    {
      "cell_type": "markdown",
      "metadata": {
        "id": "WOum7wwJXPO3",
        "colab_type": "text"
      },
      "source": [
        "*Je kunt code in een codeblok altijd aanpassen en opnieuw op 'play' klikken om de boel opnieuw uit te voeren. De oude uitvoer wordt dan overschreven.*"
      ]
    },
    {
      "cell_type": "markdown",
      "metadata": {
        "id": "Z4tKRRRRXkO1",
        "colab_type": "text"
      },
      "source": [
        "\n",
        "\n",
        "---\n",
        "\n",
        "\n",
        "2. In onderstaand programma is **c** de optelsom van **a** en **b**, zorg ervoor dat **c** nu **a** min **b** is. Na het uitvoeren moet er dus 21 staan."
      ]
    },
    {
      "cell_type": "code",
      "metadata": {
        "id": "m5Qkp5M3Yb-9",
        "colab_type": "code",
        "colab": {}
      },
      "source": [
        "a = 42\n",
        "b = 21\n",
        "c = a + b\n",
        "print(c)"
      ],
      "execution_count": 0,
      "outputs": []
    },
    {
      "cell_type": "markdown",
      "metadata": {
        "id": "CxBqtgmMYlZH",
        "colab_type": "text"
      },
      "source": [
        "\n",
        "\n",
        "---\n",
        "\n",
        "\n",
        "3. De variabele **d** is de optelsom van de variabele **a**, **b** en **c**. Declareer de variabele in onderstaande code want dat is nog niet gebeurt. Als je het goed hebt gedaan komt er het volgende te staan bij de output:\n",
        "```\n",
        "42\n",
        "84\n",
        "```"
      ]
    },
    {
      "cell_type": "code",
      "metadata": {
        "id": "PukeIXK9ZFc7",
        "colab_type": "code",
        "colab": {}
      },
      "source": [
        "a = 21\n",
        "b = 21\n",
        "c = a + b\n",
        "print(c)\n",
        "print(d)"
      ],
      "execution_count": 0,
      "outputs": []
    },
    {
      "cell_type": "markdown",
      "metadata": {
        "id": "-NlpHFysaCCD",
        "colab_type": "text"
      },
      "source": [
        "\n",
        "\n",
        "---\n",
        "\n",
        "\n",
        "4. Vermenigvuldigen doe je met de * operator. Wijzig onderstaande code zo dat c gelijk is aan a x b. Het antwoord moet uiteraard 25 zijn."
      ]
    },
    {
      "cell_type": "code",
      "metadata": {
        "id": "ASzCSHIKca2s",
        "colab_type": "code",
        "colab": {}
      },
      "source": [
        "a = 5\n",
        "b = 5\n",
        "c = a + b\n",
        "print(c)"
      ],
      "execution_count": 0,
      "outputs": []
    },
    {
      "cell_type": "markdown",
      "metadata": {
        "id": "beIdgq0dcjpu",
        "colab_type": "text"
      },
      "source": [
        "\n",
        "\n",
        "---\n",
        "\n",
        "5. Delen doe je met /. Wijzig onderstaande code zo dat **c** gelijk is aan **a** / **b**. Het antwoord moet 5 zijn."
      ]
    },
    {
      "cell_type": "code",
      "metadata": {
        "id": "x-e4wohtcyA5",
        "colab_type": "code",
        "colab": {}
      },
      "source": [
        "a = 25\n",
        "b = 5\n",
        "c = a + b\n",
        "print(c)"
      ],
      "execution_count": 0,
      "outputs": []
    },
    {
      "cell_type": "markdown",
      "metadata": {
        "id": "N2lHEZyNdZjM",
        "colab_type": "text"
      },
      "source": [
        "\n",
        "\n",
        "---\n",
        "\n",
        "\n",
        "6. Met print( ) krijg je output op je scherm. Het is handig als een gebruiker ook iets kunt vertellen. Je kunt behalve getallen ook woorden printen. In het codeblok hieronder wordt de variabele **a** nu gedeclareerd als 'string' (dat is gewoon een ander woord voor 'wat letters achter elkaar'). Wijzig de code zodat **a** geprint wordt."
      ]
    },
    {
      "cell_type": "code",
      "metadata": {
        "id": "mfD2Uw5OeZLw",
        "colab_type": "code",
        "colab": {}
      },
      "source": [
        "a = \"Hallo, Wereld!\"\n",
        "print()"
      ],
      "execution_count": 0,
      "outputs": []
    },
    {
      "cell_type": "markdown",
      "metadata": {
        "id": "gGveBggnefkk",
        "colab_type": "text"
      },
      "source": [
        "\n",
        "\n",
        "---\n",
        "\n",
        "7. Om de tekst zie je 'quotes' staan. Hierdoor weet Python dus dat het om een string gaat. Zou je die weglaten dan kan het om een variabele gaan. Haal in onderstaande code **precies twee** tekens weg om de tekst \"Hallo, Wereld!\" te printen. Je mag niet meer weghalen!"
      ]
    },
    {
      "cell_type": "code",
      "metadata": {
        "id": "JqAYblH8e9w-",
        "colab_type": "code",
        "colab": {}
      },
      "source": [
        "a = \"Hallo, Wereld!\"\n",
        "print(\"a\")"
      ],
      "execution_count": 0,
      "outputs": []
    },
    {
      "cell_type": "markdown",
      "metadata": {
        "id": "l4ZQ9rm6fH54",
        "colab_type": "text"
      },
      "source": [
        "\n",
        "\n",
        "---\n",
        "\n",
        "8. Zoals je bij 7 hebt gemerkt kun je dus ook tekst rechtstreeks als parameter van de 'print' functie meegeven. Daar kun je meer truuks mee uithalen om wat minder tekst te hoeven intikken steeds:\n",
        "```\n",
        "a = 1\n",
        "b = 2\n",
        "c = a + b\n",
        "print(c)\n",
        "```\n",
        "Kun je ook opschrijven als:\n",
        "```\n",
        "a = 1\n",
        "b = 2\n",
        "print(a + b)\n",
        "```\n",
        "Voer onderstaand blok code eens uit."
      ]
    },
    {
      "cell_type": "code",
      "metadata": {
        "id": "EAxF0jusgQKh",
        "colab_type": "code",
        "colab": {}
      },
      "source": [
        "a = 1\n",
        "b = 2\n",
        "print(\"het antwoord is: \" + a + b)"
      ],
      "execution_count": 0,
      "outputs": []
    },
    {
      "cell_type": "markdown",
      "metadata": {
        "id": "8Wt456qqg7zh",
        "colab_type": "text"
      },
      "source": [
        "\n",
        "\n",
        "Je krijgt een foutmelding te zien. Waarom? Omdat Python niet zo goed snapt wat je hier wil. Je kunt getallen namelijk niet bij woorden optellen tenslotte. Je wilt hier eigenlijk dat de uitkomst van **a + b** aan het eind van de string \"*het antwoord is:*\" wordt geplakt.\n",
        "\n",
        "Strings kun je wel bij elkaar optellen en dus moet je in dit geval van de som ook een string maken. Dit doe je door de functie str(x). Deze maakt van de parameter x een string. In dit geval dus **str(a+b)**.  Wijzig bovenstaande code op zo'n manier dat er geen foutmelding in beeld komt en dat er netjes staat:\n",
        "```\n",
        "het antwoord is: 3\n",
        "```\n",
        "*Een dergelijke functie waarmee je een variabele van het ene in het andere type wijzigt heet een typecast*\n",
        "\n"
      ]
    },
    {
      "cell_type": "markdown",
      "metadata": {
        "id": "_0f5SHA6iMlq",
        "colab_type": "text"
      },
      "source": [
        "\n",
        "\n",
        "---\n",
        "\n",
        "9. Het omgekeerde kan ook: Een string als een getal behandelen. Dit gaat met de functie **int(x)**. Je maakt hiermee van een aantal cijfers een echt getal zodat je ermee kunt rekenen. Voer onderstaande code maar eens uit. Het is nu geen optelsom en je krijgt er een gratis foutmelding bij. Zorg ervoor dat er een goed antwoord komt en maak daarbij gebruik van de functie **int( )**."
      ]
    },
    {
      "cell_type": "code",
      "metadata": {
        "id": "Ccf-wPY_jNZr",
        "colab_type": "code",
        "colab": {}
      },
      "source": [
        "a = \"2\"\n",
        "b = 15\n",
        "print(a + b)"
      ],
      "execution_count": 0,
      "outputs": []
    },
    {
      "cell_type": "markdown",
      "metadata": {
        "id": "78vxTWo0jdMO",
        "colab_type": "text"
      },
      "source": [
        "\n",
        "\n",
        "---\n",
        "\n",
        "10. Je kunt zo in principe heel veel losse variabelen als parameter achter elkaar plakken.\n",
        "\n",
        "Een instinker: Wijzig onderstaande code door op de juiste plaatsen gebruik te maken van typecasts. Er moet komen te staan:\n",
        "```\n",
        "Het antwoord van 5 + 6 is 11\n",
        "```"
      ]
    },
    {
      "cell_type": "code",
      "metadata": {
        "id": "37tyzEd_kA5I",
        "colab_type": "code",
        "colab": {}
      },
      "source": [
        "a = 5\n",
        "b = 6\n",
        "print(\"Het antwoord van \" + a + \"+\" + b + \" is \" + a + b)"
      ],
      "execution_count": 0,
      "outputs": []
    },
    {
      "cell_type": "markdown",
      "metadata": {
        "id": "zQmhpRXek81A",
        "colab_type": "text"
      },
      "source": [
        "# Opgaven 11 t/m 20"
      ]
    },
    {
      "cell_type": "markdown",
      "metadata": {
        "id": "29V-946zlOmX",
        "colab_type": "text"
      },
      "source": [
        "11. Tijd om eens wat input te geven. Met de functie **input(x)** kan wat de gebruiker intikt op zijn scherm in een variabele gestopt worden. Parameter **x** is in dit geval wat de gebruiker als zegmaar 'hint' te zien krijgt. Je mag deze weglaten. In het codeblok hieronder wordt om twee variabelen gevraagd aan de gebruiker.\n",
        "\n",
        "Jij moet de variabelen bij elkaar optellen en het antwoord weergeven. Door van de **print( )** functie gebruik te maken."
      ]
    },
    {
      "cell_type": "code",
      "metadata": {
        "id": "cPnDPbjGl3Lj",
        "colab_type": "code",
        "colab": {}
      },
      "source": [
        "print(\"Dit is de magische nummer opteller.\")\n",
        "a = input(\"Geef een nummer tussen 1 en 5: \")\n",
        "b = input(\"Geef een nummer tussen 6 en 10: \")\n",
        "print(\"Het antwoord is: \")\n"
      ],
      "execution_count": 0,
      "outputs": []
    },
    {
      "cell_type": "markdown",
      "metadata": {
        "id": "aZnrkAG7mKM0",
        "colab_type": "text"
      },
      "source": [
        "\n",
        "\n",
        "---\n",
        "12. Selecteer de code van het programma dat je hierboven bij opgave 11 hebt afgemaakt en plak het in onderstaand codeblok want we gaan het een beetje uitbouwen.\n",
        "\n",
        "Vraag de gebruiker om een derde getal, sla dit op in variabele **c** en tel het ook bij het antwoord op."
      ]
    },
    {
      "cell_type": "code",
      "metadata": {
        "id": "Spt2MkSvnD3M",
        "colab_type": "code",
        "colab": {}
      },
      "source": [
        "# Kopieer de code die je hebt gemaakt in opgave 11 en plak die hier."
      ],
      "execution_count": 0,
      "outputs": []
    },
    {
      "cell_type": "markdown",
      "metadata": {
        "id": "kuQVZaXUocfO",
        "colab_type": "text"
      },
      "source": [
        "\n",
        "\n",
        "---\n",
        "\n",
        "13. *Als ...* ook in Python heb je *conditionele statements* zoals het met een mooi woord heet. 'if' is zo'n statment. Na 'if' volgt dus een stukje code (het statement), als dit 'waar' is dan wordt het blok na het statement uitgevoerd, zo niet dan wordt dit overgeslagen. Bekijk het voorbeeld hieronder maar eens:"
      ]
    },
    {
      "cell_type": "code",
      "metadata": {
        "id": "3NF4Owvepyiu",
        "colab_type": "code",
        "colab": {}
      },
      "source": [
        "a = 10\n",
        "if a > 5:\n",
        "  print(\"a is groter dan 5\")"
      ],
      "execution_count": 0,
      "outputs": []
    },
    {
      "cell_type": "markdown",
      "metadata": {
        "id": "4sl9j5nfqkiI",
        "colab_type": "text"
      },
      "source": [
        "In woorden staat er zoveel als:\n",
        "```\n",
        "a is 10\n",
        "als a groter is dan 5:\n",
        "print dan \"a is groter dan 5\"\n",
        "```\n",
        "Waar moet je op letten: Na het if-statement staat een dubbele punt. Dat is het begin van een blok. Zoals je ziet staan er voor de print regel daaronder een aantal spaties (of een tab), dit moet want hiermee laat je aan Python weten wat er allemaal bij het blok hoort.\n",
        "\n",
        "*In C moest je dit soort code blokken altijd aangeven met een { en }. Het maakte bij C niet uit waar ze stonden overigens en je mag ze daarbij zelfs halfverwege een regel zetten. Het idee achter de ingesprongen code bij Python is dat je de structuur van een goed programma nu visueel ook duidelijk is.*\n",
        "\n",
        "Pas onderstaand blok code zo aan dat er alleen output is als a kleiner is dan 5. Om te checken of je programma klopt moet je de waarde van **a** misschien een paar keer wijzigen en het programma opnieuw uitvoeren.\n",
        "\n",
        "Als a groter is dan 5 hoef je niets uit te printen.\n"
      ]
    },
    {
      "cell_type": "code",
      "metadata": {
        "id": "k6D4vHlRw3fQ",
        "colab_type": "code",
        "colab": {}
      },
      "source": [
        "a = 10\n",
        "if a < 5:\n",
        "  print(\"a is kleiner dan 5\")"
      ],
      "execution_count": 0,
      "outputs": []
    },
    {
      "cell_type": "markdown",
      "metadata": {
        "id": "oFFuRJ5TxN0V",
        "colab_type": "text"
      },
      "source": [
        "\n",
        "\n",
        "---\n",
        "\n",
        "14. Als ... anders ... De code die je hebt gemaakt bij 17 doet niet zoveel als **a** groter is dan 5 helaas. Daar ga je iets aan doen. Het engelse woord voor 'anders' is 'else', en dat is het in Python ook.\n",
        "\n",
        "Het komt er in het kort op neer dat als het IF statement waar is, dan wordt het uitgevoerd. Als het IF statement onwaar is, dan wordt het ELSE statement uitgevoerd. Hieronder een voorbeeld."
      ]
    },
    {
      "cell_type": "code",
      "metadata": {
        "id": "b0UxSulW7KWI",
        "colab_type": "code",
        "colab": {}
      },
      "source": [
        "a = 10\n",
        "if a < 5:\n",
        "  print(\"a is kleiner dan 5\")\n",
        "else:\n",
        "  print(\"a is groter dan 5\")\n",
        "    "
      ],
      "execution_count": 0,
      "outputs": []
    },
    {
      "cell_type": "markdown",
      "metadata": {
        "id": "K3dNyH7i7Wyy",
        "colab_type": "text"
      },
      "source": [
        "Zoals je ziet maak je na ELSE ook weer netjes een blok aan. Hieronder een stuk code dat de gebruiker vraagt om zijn of haar leeftijd. Deze wordt opgeslagen in een variabele genaamd 'leeftijd'. Het is slim om variabelen namen te geven die voor zichzelf spreken.\n",
        "\n",
        "Jij moet ervoor zorgen dat de output kloppend wordt gemaakt. Dus:\n",
        ">als de invoer '15' is, dan is de uitvoer: \"Je bent niet volwassen\".\n",
        "\n",
        ">als de invoer '21' is, dan is de uitvoer: \"Helaas, je bent volwassen\".\n",
        "\n",
        "Vul de code hieronder aan."
      ]
    },
    {
      "cell_type": "code",
      "metadata": {
        "id": "VcktENTo7-Zc",
        "colab_type": "code",
        "colab": {}
      },
      "source": [
        "leeftijd = input(\"Wat is je leeftijd? \")\n",
        "# Voila, in de variabele 'leeftijd' is gevuld. Vul hieronder de rest aan.\n",
        "# Voer daarna je code uit om te checken of het werkt.\n"
      ],
      "execution_count": 0,
      "outputs": []
    },
    {
      "cell_type": "markdown",
      "metadata": {
        "id": "oOZnWvpP8Sl8",
        "colab_type": "text"
      },
      "source": [
        "\n",
        "\n",
        "---\n",
        "\n",
        "15. Weer een leuke moeilijke: Met de modulo operator **%** bereken je wat er overblijft (ook wel de 'rest') na een deling. 11 gedeeld door 5 is bijvoorbeeld '2 rest 1'. In Python:"
      ]
    },
    {
      "cell_type": "code",
      "metadata": {
        "id": "FuJuooGB9hbk",
        "colab_type": "code",
        "colab": {}
      },
      "source": [
        "a = 11 / 5 # 11 gedeeld door 5\n",
        "print(a)\n",
        "b = 11 % 5 # 11 modulo 5\n",
        "print(b)\n",
        "\n",
        "a = 17 / 3 # 17 gedeeld door 3\n",
        "print(a)\n",
        "b = 17 % 3 # 17 gedeeld modulo 3\n",
        "print(b)"
      ],
      "execution_count": 0,
      "outputs": []
    },
    {
      "cell_type": "markdown",
      "metadata": {
        "id": "LSMLgptO-TzU",
        "colab_type": "text"
      },
      "source": [
        "Vraag in het codeblok hieronder aan de gebruiker een getal en check of het even of oneven is. \n",
        "\n",
        "Het commentaar geeft wat hints."
      ]
    },
    {
      "cell_type": "code",
      "metadata": {
        "id": "dHqKqdeJ_Ap1",
        "colab_type": "code",
        "colab": {}
      },
      "source": [
        "getal = input() # Zet even wat tekst in de input zodat je gebruiker weet wat er verwacht wordt.\n",
        "\n",
        "# Maak gebruik van IF ... ELSE ...\n",
        "# als getal even is dan print je uit \"het getal is even\"\n",
        "# zo niet dan print je uit \"het getal is oneven\""
      ],
      "execution_count": 0,
      "outputs": []
    },
    {
      "cell_type": "markdown",
      "metadata": {
        "id": "qv5o6mFVBK1k",
        "colab_type": "text"
      },
      "source": [
        "\n",
        "\n",
        "---\n",
        "\n",
        "16. Vergelijkingen maak je bij wiskunde met '='. Zoals je al hebt gezien wordt dit in het programmeren als toewijzing gebruikt. Vergelijken van variabelen doe je met een dubbele: '=='. Maak onderstaande code kloppend:"
      ]
    },
    {
      "cell_type": "code",
      "metadata": {
        "id": "jbTQN3v9Bg8P",
        "colab_type": "code",
        "colab": {}
      },
      "source": [
        "a = 7\n",
        "b = 9\n",
        "if a = b: # <-- hier worden a en b niet correct met elkaar vergeleken!\n",
        "  print(\"a is gelijk aan b\")\n",
        "else:\n",
        "  print(\"a is niet gelijk aan b\")"
      ],
      "execution_count": 0,
      "outputs": []
    },
    {
      "cell_type": "markdown",
      "metadata": {
        "id": "F8smt-dQAA3D",
        "colab_type": "text"
      },
      "source": [
        "\n",
        "\n",
        "---\n",
        "\n",
        "17. Als ... anders als ... anders. En er is er nog eentje die je ertussen mag frommelen: ELIF. Dit is een samenvoeging van de woorden 'else' en 'if' en komt tussen 'if' en 'else' als blok terecht. Dit is ook weer conditioneel: Je zult er net als bij 'if' dus wel een statement achter moeten zetten. Hier een voorbeeld waarbij de gebruiker om een kleur gevraagd wordt (zoals je ziet kun je ook een string als invoer vragen, niet alleen getallen):"
      ]
    },
    {
      "cell_type": "code",
      "metadata": {
        "id": "gpi1RVpnAxbP",
        "colab_type": "code",
        "colab": {}
      },
      "source": [
        "kleur = input(\"Noem een kleur, dan kijk ik of deze in de NL vlag zit: \")\n",
        "if kleur == \"rood\":\n",
        "  print(\"Rood zit in de Nederlandse vlag.\")\n",
        "elif kleur == \"wit\":\n",
        "  print(\"Wit zit in de Nederlandse vlag.\")\n",
        "elif kleur == \"blauw\":\n",
        "  print(\"Blauw zit in de Nederlandse vlag.\")\n",
        "else:\n",
        "  print(kleur + \" zit niet in de Nederlandse vlag\")"
      ],
      "execution_count": 0,
      "outputs": []
    },
    {
      "cell_type": "markdown",
      "metadata": {
        "id": "vI1Y205KChOS",
        "colab_type": "text"
      },
      "source": [
        "Pas deze code op zo'n manier aan dat er om pokemon namen gevraagd wordt. Het programma verteld vervolgens of dit een pokemon is of niet. Dus:\n",
        "```\n",
        "input: pikachu\n",
        "output: Dit is een pokemon\n",
        "```\n",
        "```\n",
        "input: willem alexander\n",
        "output: Dit is geen pokemon\n",
        "```\n",
        "Zet er vijf mogelijke pokemon in!"
      ]
    },
    {
      "cell_type": "markdown",
      "metadata": {
        "id": "eKxC2IiBDIhf",
        "colab_type": "text"
      },
      "source": [
        "\n",
        "\n",
        "---\n",
        "\n",
        "18. Terug naar het modulo rekenen, weet je nog hoe het zat? 18 % 6 geeft 0 als antwoord want je kunt 18 precies 3 keer door 6 delen en dan blijft er 0 over. 19 % 6 geeft 1 als antwoord. In het codeblok hieronder moet een programma komen dat de gebruiker om een getal vraagt. Vervolgens kun je met de modulo berekening kijken in welke tafel dat getal allemaal zit. We willen weten in welke tafels van 2 t/m 10 dit getal te vinden is.\n",
        "\n",
        "Hier een voorbeeld van hoe de uitvoer er uit moet komen te zien:\n",
        "\n",
        "```\n",
        "Geef een getal op: 18\n",
        "Dit zit in de tafel van 2\n",
        "Dit zit in de tafel van 3\n",
        "Dit zit in de tafel van 6\n",
        "Dit zit in de tafel van 9\n",
        "18 is een mooi getal, bedankt!\n",
        "```"
      ]
    },
    {
      "cell_type": "code",
      "metadata": {
        "id": "hLwbFULgE2Cw",
        "colab_type": "code",
        "colab": {}
      },
      "source": [
        "getal = input(\"Geef een getal op: \")\n",
        "\n",
        "# Zet hier je eigen code neer\n",
        "# Maak gebruik van IF statements\n",
        "\n",
        "print( str(getal) + \" is een mooi getal, bedankt!\")"
      ],
      "execution_count": 0,
      "outputs": []
    },
    {
      "cell_type": "markdown",
      "metadata": {
        "id": "3X2zqDWaFjCR",
        "colab_type": "text"
      },
      "source": [
        "\n",
        "\n",
        "---\n",
        "\n",
        "19. Onderstaande code klopt niet als je deze uitvoert. Maak hem kloppend."
      ]
    },
    {
      "cell_type": "code",
      "metadata": {
        "id": "nVLgpa5aai00",
        "colab_type": "code",
        "colab": {}
      },
      "source": [
        "dagen = input(\"Hoeveel dagen heeft een jaar?\")\n",
        "\n",
        "if dagen == \"365\":\n",
        "  print(\"Dan is het een normaal jaar en geen schrikkeljaar!\")\n",
        "if dagen == \"364\":\n",
        "  print(\"Dan is het een schrikkeljaar!\")\n",
        "else:\n",
        "  print(\"Dat bestaat niet!\")"
      ],
      "execution_count": 0,
      "outputs": []
    },
    {
      "cell_type": "markdown",
      "metadata": {
        "id": "uEePk7SYbMLH",
        "colab_type": "text"
      },
      "source": [
        "\n",
        "\n",
        "---\n",
        "\n",
        "20. In een if-statement kan ook nog een ander if-statement verstopt zitten. Dit heten dan 'geneste blokken'. Je moet hierbij altijd extra goed opletten waar elk blok begint en waar het eindigt.\n",
        "\n",
        "Hieronder vind je een programma dat aan de gebruiker om een getal vraagt.\n",
        "Het programma bekijkt of het getal even of oneven is.\n",
        "Is het getal even dan kijkt het programma of het getal groter, kleiner of gelijk aan 10 is.\n",
        "Is het getal oneven dan kijkt het programma of het getal groter, kleiner of gelijk aan 20 is.\n",
        "\n",
        "Helaas is de programmeur de blokken vergeten netjes te maken. Zet spaties neer zodat de blokken code goed worden uitgevoerd. Je hoeft alleen maar spaties te zetten en goed te tellen!"
      ]
    },
    {
      "cell_type": "code",
      "metadata": {
        "id": "zq0ZMWe9cMYk",
        "colab_type": "code",
        "colab": {}
      },
      "source": [
        "getal = input(\"Geef mij maar eens een getal tussen 1 en 101: \")\n",
        "tekst = \" is een goede keuze, ik zal je er iets over vertellen:\"\n",
        "# zowel variabele 'getal', als variabele 'tekst' zijn strings. Dit kan dus gewoon:\n",
        "print(getal + tekst)\n",
        "\n",
        "# maar als we met getal willen rekenen, moet het wel een integer worden:\n",
        "getal = int(getal) \n",
        "\n",
        "if getal % 2 == 0:\n",
        "print(\"Het is even.\")\n",
        "if getal < 10:\n",
        "print(\"En kleiner dan 10.\")\n",
        "elif getal > 10:\n",
        "print(\"En groter dan 10.\")\n",
        "else:\n",
        "print(\"Het is gelijk aan 10.\")\n",
        "elif getal % 2 == 1:\n",
        "print(\"Het is oneven.\")\n",
        "if getal < 20:\n",
        "print(\"En kleiner dan 20.\")\n",
        "elif getal > 20:\n",
        "print(\"En groter dan 20\")\n",
        "else:\n",
        "print(\"Het is gelijk aan 20\")"
      ],
      "execution_count": 0,
      "outputs": []
    },
    {
      "cell_type": "markdown",
      "metadata": {
        "id": "eXFwVbYahc2_",
        "colab_type": "text"
      },
      "source": [
        "# Opgaven 21 t/m 25"
      ]
    },
    {
      "cell_type": "markdown",
      "metadata": {
        "id": "AZuF3QzbvbN6",
        "colab_type": "text"
      },
      "source": [
        "\n",
        "\n",
        "---\n",
        "\n",
        "21. 'Zolang ...' Een eerste lus: Zolang of eigenlijk 'while'. Na 'while' komt (net als bij if) een statement, zolang dat statement waar is blijft hij het hele blok dat daarna komt opnieuw uitvoeren. Voer onderstaande code maar eens uit!"
      ]
    },
    {
      "cell_type": "code",
      "metadata": {
        "id": "fQHdrNEIv8Wu",
        "colab_type": "code",
        "colab": {}
      },
      "source": [
        "getal = 0\n",
        "while getal < 10:    # zolang het getal kleiner is dan 10!\n",
        "  getal = getal + 1\n",
        "  print getal"
      ],
      "execution_count": 0,
      "outputs": []
    },
    {
      "cell_type": "markdown",
      "metadata": {
        "id": "ocY8_9hBwpdi",
        "colab_type": "text"
      },
      "source": [
        "Wijzig dit programma. Het moet nu aan de gebruiker een getal vragen en alle nummers vanaf 0 tot dat getal uitprinten op het scherm.\n",
        "\n",
        "Denk eraan dat het getal dat de gebruiker ingeeft in principe een 'string' is en eerst naar een 'integer' ge-typecast zal moeten worden. "
      ]
    },
    {
      "cell_type": "markdown",
      "metadata": {
        "id": "ZOOy8ykShgK8",
        "colab_type": "text"
      },
      "source": [
        "\n",
        "\n",
        "---\n",
        "\n",
        "22. In Python zitten veel functies ingebakken zoals **input( )**, **print ( )**, **str( )** en **int( )**. Zo nu en dan heb je dingen nodig waarvoor je speciale functies moet gebruiken. Dit kun je doen door zogenaamde **modules** te importeren. Vaak zitten er in zo'n module veel functies, je kunt ze per functie importeren.\n",
        "\n",
        "Maak je overigens geen zorgen: Je hoeft echt niet alle modules en functies uit je hoofd te kennen. Die welke je veel gebruikt ken je vanzelf na een tijdje.\n",
        "\n",
        "Hieronder vind je code die uit de module **random** de functie **randint(x, y)** importeert. De functie **randint(x, y)** heeft twee parameters: Twee getallen. De functie geeft een willekeurig getal tussen deze twee getallen terug.\n",
        "\n",
        "Voer onderstaande code eens een aantal keer uit en kijk wat de uitvoer is."
      ]
    },
    {
      "cell_type": "code",
      "metadata": {
        "id": "3dVxV4tVm156",
        "colab_type": "code",
        "colab": {}
      },
      "source": [
        "from random import randint\n",
        "x = randint(10, 100)\n",
        "print(x)"
      ],
      "execution_count": 0,
      "outputs": []
    },
    {
      "cell_type": "markdown",
      "metadata": {
        "id": "5_VbyLdqnEM5",
        "colab_type": "text"
      },
      "source": [
        "Wijzig de code nu hieronder en maak er een dobbelsteen van. Maak de uitvoer voor mensen iets prettiger door er wat tekst omheen te zetten. Meerdere keren drukken moet er ongeveer zo uit zien:\n",
        "```\n",
        "Je rolde met de dobbelsteen een 1\n",
        "Je rolde met de dobbelsteen een 3\n",
        "Je rolde met de dobbelsteen een 6\n",
        "```"
      ]
    },
    {
      "cell_type": "code",
      "metadata": {
        "id": "WTil98v0xBhI",
        "colab_type": "code",
        "colab": {}
      },
      "source": [
        "from random import randint\n",
        "x = randint(10, 100)\n",
        "print(x)"
      ],
      "execution_count": 0,
      "outputs": []
    },
    {
      "cell_type": "markdown",
      "metadata": {
        "id": "r9ILzI_ynY0N",
        "colab_type": "text"
      },
      "source": [
        "\n",
        "\n",
        "---\n",
        "\n",
        "23. Onderstaand programma laat een of meerdere gebruikers raden naar een getal dat de computer heeft verzonnen. Maak het programma zo af dat de uitvoer er ongeveer als volgt uitziet:\n",
        "```\n",
        "Ik heb een getal in mijn hoofd tussen 0 en 20.\n",
        "Raad maar: 22\n",
        "Nee, het was niet 22!\n",
        "Raad maar: 6\n",
        "Nee, het was niet 6!\n",
        "Raad maar: 17\n",
        "Ja, het was 17!\n",
        "```"
      ]
    },
    {
      "cell_type": "code",
      "metadata": {
        "id": "HzN5TkKXoHrm",
        "colab_type": "code",
        "colab": {}
      },
      "source": [
        "from random import randint\n",
        "\n",
        "input(\"Ik heb een getal in mijn hoofd tussen 0 en 20.\")\n",
        "# Laat de computer eerst een random getal uitkiezen\n",
        "#\n",
        "# Daarna moet je de gebruiker vragen om te raden, wat je in een while loop doet\n",
        "# Check of het getal van de gebruiker overeenkomt met dat van de computer\n",
        "# print de uitkomst en laat de gebruiker, indien fout, weer opnieuw raden"
      ],
      "execution_count": 0,
      "outputs": []
    },
    {
      "cell_type": "markdown",
      "metadata": {
        "id": "_fANP6yNowtQ",
        "colab_type": "text"
      },
      "source": [
        "\n",
        "\n",
        "---\n",
        "\n",
        "24. Tot nu toe stopten we in variabelen steeds 1 getal, 1 woord of 1 zin. Nadruk ligt hier op '1' inderdaad. Je kunt in Python een lijst maken. Die lijst zit dan in 1 variabele, maar die ene variabele bestaat dan weer wel uit meerdere losse zaken. Een voorbeeld: In het codeblok hieronder wordt de lijst genaamd 'fruit' aangemaakt. In deze lijst zitten een aantal losse stukken fruit."
      ]
    },
    {
      "cell_type": "code",
      "metadata": {
        "id": "etR-m4uMqEsG",
        "colab_type": "code",
        "colab": {}
      },
      "source": [
        "fruit = [\"appel\", \"peer\", \"abrikoos\", \"perzik\"]"
      ],
      "execution_count": 0,
      "outputs": []
    },
    {
      "cell_type": "markdown",
      "metadata": {
        "id": "oUPibXVuqO9H",
        "colab_type": "text"
      },
      "source": [
        "Zo'n lijst zitten tussen de vierkante haakjes. Dit wordt ook wel eens 'array' genoemd overigens, maar best is gewoon om het een 'lijst' of 'list' te noemen.\n",
        "\n",
        "Hier kun je een aantal dingen mee doen:"
      ]
    },
    {
      "cell_type": "code",
      "metadata": {
        "id": "rO0stKk9qhCl",
        "colab_type": "code",
        "colab": {}
      },
      "source": [
        "fruit = [\"appel\", \"peer\", \"abrikoos\", \"perzik\"]\n",
        "\n",
        "# De functie len() geeft de lengte van de list in aantallen items terug\n",
        "lengte = len(fruit)\n",
        "print(\"De lengte van de lijst is: \" + str(lengte) )\n",
        "\n",
        "# Je kunt de list printen\n",
        "print(fruit)\n",
        "\n",
        "# Je kunt losse onderdelen uit de lijst printen door binnen vierkante haakjes het nummer te zetten\n",
        "print(\"Ik hou niet zo van \" + fruit[2] + \", maar wel van \" + fruit[3])\n"
      ],
      "execution_count": 0,
      "outputs": []
    },
    {
      "cell_type": "markdown",
      "metadata": {
        "id": "_DxYxH1YrtAz",
        "colab_type": "text"
      },
      "source": [
        "LET OP: De eerste index van een lijst is altijd 0. Bij bovenstaande lijst leeft de 'appel' dus op index 0 oftewel fruit[0]. De perzik zit op 3!\n",
        "\n",
        "Je kunt onderdelen uit je lijst fruit verwijderen als volgt:\n",
        "```\n",
        "fruit.remove(\"appel\")\n",
        "```\n",
        "\n",
        "Je kunt onderdelen toevoegen als volgt:\n",
        "```\n",
        "fruit.append(\"spruitjes\")\n",
        "```\n",
        "\n",
        "Maak een programma dat de gebruiker vraagt om soorten voedsel in te tikken. Dit voedsel moet worden opgeslagen in een lijst. Als de gebruiker 'klaar' intikt is hij klaar met intikken en print je alle items die zijn ingetikt nog een keer.\n",
        "\n",
        "Het moet er ongeveer zo uitzien:\n",
        "```\n",
        "Welke hapjes vind je lekker (of type 'klaar')? Patat\n",
        "Welke hapjes vind je lekker (of type 'klaar')? Spruitjes\n",
        "Welke hapjes vind je lekker (of type 'klaar')? Kippenlevertjes\n",
        "Welke hapjes vind je lekker (of type 'klaar')? klaar\n",
        "Je vindt de volgende dingen lekker:\n",
        "[\"Patat\", \"Spruitjes\", \"Kippenlevertjes\"]\n",
        "```"
      ]
    },
    {
      "cell_type": "code",
      "metadata": {
        "id": "oErvS-wxt46t",
        "colab_type": "code",
        "colab": {}
      },
      "source": [
        "lijst = [] # op deze manier declareer je een (nu nog) lege lijst\n",
        "\n",
        "# Hier komt je code. Begin met een variabele 'vraag' gelijk aan 0 te maken\n",
        "# Vervolgens begint je 'while' lus, waarin je de gebruiker steeds om een getal\n",
        "# vraagt dat je in de variabele 'vraag' zet. Het antwoord daarop moet ofwel aan\n",
        "# de lijst worden toegevoegd, ofwel, als het antwoord 'klaar' is, is de lus voorbij\n",
        "\n",
        "print(\"Je vindt de volgende dingen lekker:\")\n",
        "print(lijst)"
      ],
      "execution_count": 0,
      "outputs": []
    },
    {
      "cell_type": "markdown",
      "metadata": {
        "id": "8qCNeF_gxtOh",
        "colab_type": "text"
      },
      "source": [
        "\n",
        "\n",
        "---\n",
        "\n",
        "\n",
        "25. Het slotstuk! Hier maak je voor een of andere foute krant een horoscoop generator. Dat doe je als volgt:\n",
        "* Maak een lijst aan met daarin wat werkwoorden of juist zelfstandige naamwoorden.\n",
        "* Maak een stuk tekst waarin deze woorden passen.\n",
        "* Print het tekstje en zet er random de woorden in die je hebt gekozen.\n",
        "\n",
        "Hieronder een voorbeeldje:\n",
        "\n",
        "\n"
      ]
    },
    {
      "cell_type": "code",
      "metadata": {
        "id": "Tba6OrX9yvnR",
        "colab_type": "code",
        "colab": {}
      },
      "source": [
        "from random import randint\n",
        "gemoedstoestand = [\"vrolijk\", \"blij\", \"zielsongelukkig\", \"boos\"]\n",
        "tijdspannen = [\"over een seconde\", \"over een jaar\", \"een uur na je lunch\"]\n",
        "\n",
        "print(\"Er zullen bijzondere dingen op je pad komen die je \" + gemoedstoestand[randint(0, len(gemoedstoestand)-1)] + \" zullen maken!\")\n",
        "print(\"Om precies te zijn is dat \" + tijdspannen[randint(0, len(tijdspannen)-1)])"
      ],
      "execution_count": 0,
      "outputs": []
    },
    {
      "cell_type": "markdown",
      "metadata": {
        "id": "tdrS4nHDz5Gp",
        "colab_type": "text"
      },
      "source": [
        "Dingen die je moeten opvallen:\n",
        "Check om te beginnen de manier waarop ik een willekeurig item uit de lijst haal:\n",
        "```\n",
        "gemoedstoestand[randint(0,len(gemoedstoestand)-1)]\n",
        "```\n",
        "Wat je wilt hebben is een willekeurig item uit de lijst, dat roep je op met een nummer maar dat wist je al. Het nummer mag echter niet helemaal willekeurig zijn en dus geven we twee parameters mee aan de functie randint:\n",
        "```\n",
        "randint(0 , len(gemoedstoestand)-1)\n",
        "```\n",
        "0: Daarmee beginnen we tenslotte met tellen\n",
        "len(gemoedstoestand)-1: Dit haalt de lengte van de lijst op en trekt daar 1 vanaf. Dit laatste is omdat we de items uit de lijst tenslote beginnen te indexeren bij 0 en niet bij 1.\n",
        "\n",
        "Een lijst met lengte 4 bestaat uit de items met index 0 t/m 3!\n",
        "\n",
        "Voila, je weet genoeg. Breid de horoscoop hieronder nu verder uit zodat deze een regel of 10 lang is. Als je veel items in de lijsten stopt heb je elke keer dat je het programma uitvoert een gloednieuwe horoscoop!\n"
      ]
    },
    {
      "cell_type": "code",
      "metadata": {
        "id": "B4Wz9Pro1M1Q",
        "colab_type": "code",
        "colab": {}
      },
      "source": [
        "from random import randint\n",
        "print(\"Dit is je horoscoop:\")\n",
        "# Vanaf hier kun je je eigen code invoeren!"
      ],
      "execution_count": 0,
      "outputs": []
    }
  ]
}