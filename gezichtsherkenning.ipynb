{
  "nbformat": 4,
  "nbformat_minor": 0,
  "metadata": {
    "colab": {
      "name": "gezichtsherkenning.ipynb",
      "provenance": [],
      "authorship_tag": "ABX9TyMop9+OWq197V7NvAc7oOTh",
      "include_colab_link": true
    },
    "kernelspec": {
      "name": "python3",
      "display_name": "Python 3"
    }
  },
  "cells": [
    {
      "cell_type": "markdown",
      "metadata": {
        "id": "view-in-github",
        "colab_type": "text"
      },
      "source": [
        "<a href=\"https://colab.research.google.com/github/stgslaze/Colab-Python-Cursus-NL/blob/master/gezichtsherkenning.ipynb\" target=\"_parent\"><img src=\"https://colab.research.google.com/assets/colab-badge.svg\" alt=\"Open In Colab\"/></a>"
      ]
    },
    {
      "cell_type": "code",
      "metadata": {
        "id": "gQ8F1BQ7yADt",
        "colab_type": "code",
        "colab": {}
      },
      "source": [
        "print(\"Hallo Wereld!\")"
      ],
      "execution_count": 0,
      "outputs": []
    },
    {
      "cell_type": "code",
      "metadata": {
        "id": "5oCXk7iJtk-H",
        "colab_type": "code",
        "colab": {}
      },
      "source": [
        "!wget -N https://www.stgs.nl/uploads/Downloads/misc/haarcascade_frontalface_default.xml -P cascades/\n",
        "!wget -N https://www.stgs.nl/uploads/Downloads/misc/test.jpg"
      ],
      "execution_count": 0,
      "outputs": []
    },
    {
      "cell_type": "code",
      "metadata": {
        "id": "NNIJffO0yOiS",
        "colab_type": "code",
        "colab": {}
      },
      "source": [
        "import cv2\n",
        "from google.colab.patches import cv2_imshow\n",
        "\n",
        "image = cv2.imread('test.jpg')\n",
        "gray = cv2.cvtColor(image, cv2.COLOR_BGR2GRAY)\n",
        "\n",
        "faceCascade = cv2.CascadeClassifier(\"cascades/haarcascade_frontalface_default.xml\")\n",
        "\n",
        "faces = faceCascade.detectMultiScale(\n",
        "    gray,\n",
        "    scaleFactor=1.1,\n",
        "    minNeighbors=5,\n",
        "    minSize=(30, 30),\n",
        "    flags = cv2.CASCADE_SCALE_IMAGE\n",
        ")\n",
        "\n",
        "print(\"Jazeker: {0} gezicht(en) gevonden!!!!!!\".format(len(faces)))\n",
        "\n",
        "# Draw a rectangle around the faces\n",
        "for (x, y, w, h) in faces:\n",
        "    cv2.rectangle(image, (x, y), (x+w, y+h), (0, 255, 0), 2)\n",
        "\n",
        "cv2_imshow(image)"
      ],
      "execution_count": 0,
      "outputs": []
    }
  ]
}